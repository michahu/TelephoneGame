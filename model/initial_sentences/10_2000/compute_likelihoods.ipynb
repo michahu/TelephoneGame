{
 "cells": [
  {
   "cell_type": "code",
   "execution_count": 28,
   "metadata": {},
   "outputs": [],
   "source": [
    "from transformers import AutoModelForCausalLM, AutoTokenizer\n",
    "import datasets\n",
    "\n",
    "import torch\n",
    "from torch.utils.data import DataLoader\n",
    "\n",
    "import pandas as pd\n",
    "import numpy as np\n",
    "from tqdm import tqdm\n",
    "import importlib\n",
    "import matplotlib.pyplot as plt\n",
    "from scipy.stats import ttest_ind\n",
    "\n",
    "import analysis"
   ]
  },
  {
   "cell_type": "code",
   "execution_count": 31,
   "metadata": {},
   "outputs": [
    {
     "data": {
      "text/plain": [
       "<module 'analysis' from '/scratch/myh2014/TelephoneGame/model/initial_sentences/21TokenSents/textfile/bert-base-uncased/10_2000/analysis.py'>"
      ]
     },
     "execution_count": 31,
     "metadata": {},
     "output_type": "execute_result"
    }
   ],
   "source": [
    "importlib.reload(analysis)"
   ]
  },
  {
   "cell_type": "code",
   "execution_count": 37,
   "metadata": {},
   "outputs": [],
   "source": [
    "initials = []\n",
    "initial_data = []\n",
    "finals = []\n",
    "final_data = []\n",
    "\n",
    "model_names = [\"facebook/opt-125m\", \"facebook/opt-350m\", \"facebook/opt-1.3b\", \"facebook/opt-6.7b\"]"
   ]
  },
  {
   "cell_type": "code",
   "execution_count": 22,
   "metadata": {},
   "outputs": [],
   "source": [
    "def get_likelihoods(init, final, num_words=21):\n",
    "    return np.exp(-init/num_words), np.exp(-final/num_words)\n",
    "\n",
    "def get_ranks(init, final):\n",
    "    array = np.con\n",
    "    order = array.argsort()\n",
    "    ranks = order.argsort()"
   ]
  },
  {
   "cell_type": "code",
   "execution_count": null,
   "metadata": {},
   "outputs": [],
   "source": [
    "for name in model_names:\n",
    "    bat_avg_init, bat_avg_final = analysis.main(name, \"final.csv\")\n",
    "    l_init, l_final = get_likelihoods(bat_avg_init, bat_avg_final)\n",
    "    initials.append(np.mean(l_init))\n",
    "    initial_data.append(l_init)\n",
    "    finals.append(np.mean(l_final))\n",
    "    final_data.append(l_final)"
   ]
  },
  {
   "cell_type": "code",
   "execution_count": 52,
   "metadata": {},
   "outputs": [],
   "source": [
    "initials = np.array(initials)\n",
    "initial_data = np.array(initial_data)\n",
    "finals = np.array(finals)\n",
    "final_data = np.array(final_data)"
   ]
  },
  {
   "cell_type": "code",
   "execution_count": 57,
   "metadata": {},
   "outputs": [
    {
     "data": {
      "text/plain": [
       "Ttest_indResult(statistic=array([ 7.93488002,  6.46011106,  9.77262108, 12.45750604]), pvalue=array([7.56977770e-15, 1.86995777e-10, 2.51668386e-21, 1.53502672e-32]))"
      ]
     },
     "execution_count": 57,
     "metadata": {},
     "output_type": "execute_result"
    }
   ],
   "source": [
    "ttest_ind(initial_data, final_data, axis=1)"
   ]
  },
  {
   "cell_type": "code",
   "execution_count": 59,
   "metadata": {},
   "outputs": [
    {
     "data": {
      "image/png": "[encoded data removed]",
      "text/plain": [
       "<Figure size 640x480 with 1 Axes>"
      ]
     },
     "metadata": {},
     "output_type": "display_data"
    }
   ],
   "source": [
    "labels = ['OPT-125M', 'OPT-350M', 'OPT-1.3B', 'OPT-6.7B']\n",
    "x = np.arange(len(model_names))  # the label locations\n",
    "width = 0.35  # the width of the bars\n",
    "\n",
    "fig, ax = plt.subplots()\n",
    "rects1 = ax.bar(x - width/2, np.round(initials, 3), width, label='Gold')\n",
    "rects2 = ax.bar(x + width/2, np.round(finals, 3), width, label='BERT')\n",
    "\n",
    "# Add some text for labels, title and custom x-axis tick labels, etc.\n",
    "ax.set_ylabel('Likelihood')\n",
    "ax.set_xticks(x, labels)\n",
    "ax.set_ylim(0.75, 0.85)\n",
    "ax.legend()\n",
    "\n",
    "ax.bar_label(rects1, padding=3)\n",
    "ax.bar_label(rects2, padding=3)\n",
    "\n",
    "fig.tight_layout()\n",
    "\n",
    "plt.show()"
   ]
  },
  {
   "cell_type": "code",
   "execution_count": 61,
   "metadata": {},
   "outputs": [],
   "source": [
    "fig.savefig('OPT-variants.png')"
   ]
  },
  {
   "cell_type": "code",
   "execution_count": null,
   "metadata": {},
   "outputs": [],
   "source": []
  }
 ],
 "metadata": {
  "kernelspec": {
   "display_name": "base",
   "language": "python",
   "name": "base"
  },
  "language_info": {
   "codemirror_mode": {
    "name": "ipython",
    "version": 3
   },
   "file_extension": ".py",
   "mimetype": "text/x-python",
   "name": "python",
   "nbconvert_exporter": "python",
   "pygments_lexer": "ipython3",
   "version": "3.9.12"
  }
 },
 "nbformat": 4,
 "nbformat_minor": 4
}
